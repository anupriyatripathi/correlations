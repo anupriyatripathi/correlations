{
 "cells": [
  {
   "cell_type": "code",
   "execution_count": 1,
   "metadata": {},
   "outputs": [
    {
     "name": "stderr",
     "output_type": "stream",
     "text": [
      "Loading required package: dynamicTreeCut\n",
      "Loading required package: fastcluster\n",
      "\n",
      "Attaching package: ‘fastcluster’\n",
      "\n",
      "The following object is masked from ‘package:stats’:\n",
      "\n",
      "    hclust\n",
      "\n",
      "\n"
     ]
    },
    {
     "name": "stdout",
     "output_type": "stream",
     "text": [
      "==========================================================================\n",
      "*\n",
      "*  Package WGCNA 1.63 loaded.\n",
      "*\n",
      "*    Important note: It appears that your system supports multi-threading,\n",
      "*    but it is not enabled within WGCNA in R. \n",
      "*    To allow multi-threading within WGCNA with all available cores, use \n",
      "*\n",
      "*          allowWGCNAThreads()\n",
      "*\n",
      "*    within R. Use disableWGCNAThreads() to disable threading if necessary.\n",
      "*    Alternatively, set the following environment variable on your system:\n",
      "*\n",
      "*          ALLOW_WGCNA_THREADS=<number_of_processors>\n",
      "*\n",
      "*    for example \n",
      "*\n",
      "*          ALLOW_WGCNA_THREADS=8\n",
      "*\n",
      "*    To set the environment variable in linux bash shell, type \n",
      "*\n",
      "*           export ALLOW_WGCNA_THREADS=8\n",
      "*\n",
      "*     before running R. Other operating systems or shells will\n",
      "*     have a similar command to achieve the same aim.\n",
      "*\n",
      "==========================================================================\n",
      "\n",
      "\n"
     ]
    },
    {
     "name": "stderr",
     "output_type": "stream",
     "text": [
      "\n",
      "Attaching package: ‘WGCNA’\n",
      "\n",
      "The following object is masked from ‘package:stats’:\n",
      "\n",
      "    cor\n",
      "\n"
     ]
    },
    {
     "name": "stdout",
     "output_type": "stream",
     "text": [
      "Allowing parallel execution with up to 7 working processes.\n"
     ]
    }
   ],
   "source": [
    "options(warn = -1)\n",
    "library(WGCNA)\n",
    "options(stringsAsFactors=FALSE)\n",
    "enableWGCNAThreads()"
   ]
  },
  {
   "cell_type": "code",
   "execution_count": 76,
   "metadata": {},
   "outputs": [],
   "source": [
    "load(file='metab_mapping.RData')\n",
    "load(file='microb_mapping.RData')"
   ]
  },
  {
   "cell_type": "code",
   "execution_count": 77,
   "metadata": {},
   "outputs": [],
   "source": [
    "load(file='milk_metab_modules.RData')\n",
    "load(file='milk_microb_modules.RData')"
   ]
  },
  {
   "cell_type": "code",
   "execution_count": 78,
   "metadata": {},
   "outputs": [],
   "source": [
    "# define numbers of genes and samples\n",
    "nMetabs = ncol(dat_metab)\n",
    "nSamples_metab = nrow(dat_metab)\n",
    "\n",
    "# recalculate MEs with color labels\n",
    "MEs0_metab = moduleEigengenes(dat_metab, moduleColors_metab)$eigengenes\n",
    "MEs_metab = orderMEs(MEs0_metab)\n",
    "moduleTraitCor_metab = cor(MEs_metab, trait, use='p')\n",
    "moduleTraitPvalue_metab = corPvalueStudent(moduleTraitCor_metab, nSamples_metab)\n",
    "\n",
    "nMicrobs = ncol(dat_microb)\n",
    "nSamples_microb = nrow(dat_microb)\n",
    "MEs0_microb = moduleEigengenes(dat_microb, moduleColors_microb)$eigengenes\n",
    "MEs_microb = orderMEs(MEs0_microb)\n",
    "moduleTraitCor_microb = cor(MEs_microb, trait, use='p')\n",
    "moduleTraitPvalue_microb = corPvalueStudent(moduleTraitCor_microb, nSamples_microb)"
   ]
  },
  {
   "cell_type": "code",
   "execution_count": 79,
   "metadata": {},
   "outputs": [],
   "source": [
    "# pdf('correlation_metab.pdf', width=50, height=40)\n",
    "# textMatrix = paste(signif(moduleTraitCor_metab, 2), '\\n(', signif(moduleTraitPvalue_metab, 1), ')', sep='')\n",
    "# dim(textMatrix) = dim(moduleTraitCor_metab)\n",
    "# par(mar=c(30, 30, 10, 10)) # set margins\n",
    "# # display the correlation values within a heatmap plot\n",
    "# labeledHeatmap(Matrix=moduleTraitCor_metab, xLabels=names(trait), \n",
    "#                yLabels=names(MEs_metab), ySymbols=names(MEs_metab),\n",
    "#                colorLabels=FALSE, colors=greenWhiteRed(50), textMatrix=textMatrix, setStdMargins=FALSE,\n",
    "#                cex.text=2, zlim=c(-1,1), main=paste('Metab Module-Variables relationships'),\n",
    "#                xColorWidth = 0.5, cex.main=5, cex.lab=3, xLabelsAngle = 20)\n",
    "# dev.off()"
   ]
  },
  {
   "cell_type": "code",
   "execution_count": 80,
   "metadata": {},
   "outputs": [],
   "source": [
    "# pdf('correlation_microb.pdf', width=50, height=40)\n",
    "# textMatrix = paste(signif(moduleTraitCor_microb, 2), '\\n(', signif(moduleTraitPvalue_microb, 1), ')', sep='')\n",
    "# dim(textMatrix) = dim(moduleTraitCor_microb)\n",
    "# par(mar=c(30, 30, 10, 10)) # set margins\n",
    "# # display the correlation values within a heatmap plot\n",
    "# labeledHeatmap(Matrix=moduleTraitCor_microb, xLabels=names(trait), \n",
    "#                yLabels=names(MEs_microb), ySymbols=names(MEs_microb),\n",
    "#                colorLabels=FALSE, colors=greenWhiteRed(50), textMatrix=textMatrix, setStdMargins=FALSE,\n",
    "#                cex.text=3, zlim=c(-1,1), main=paste('Microb Module-Variables relationships'),\n",
    "#                xColorWidth = 0.5, cex.main=5, cex.lab=3, xLabelsAngle = 20)\n",
    "# dev.off()"
   ]
  },
  {
   "cell_type": "code",
   "execution_count": 81,
   "metadata": {},
   "outputs": [],
   "source": [
    "######### correlation between Metab and Microb modules #########"
   ]
  },
  {
   "cell_type": "markdown",
   "metadata": {},
   "source": [
    "Now, you can pick interesting modules based on associations with metadata using correlation heatmap generated above (Example below)"
   ]
  },
  {
   "cell_type": "code",
   "execution_count": 82,
   "metadata": {},
   "outputs": [
    {
     "name": "stdout",
     "output_type": "stream",
     "text": [
      "moduleColors_metab\n",
      "         black           blue          brown           cyan      darkgreen \n",
      "            11            269            195            296             16 \n",
      "      darkgrey    darkmagenta darkolivegreen     darkorange        darkred \n",
      "            49             12            334             26             21 \n",
      " darkturquoise          green    greenyellow         grey60      lightcyan \n",
      "            76             23             23             29             30 \n",
      "    lightgreen    lightyellow        magenta   midnightblue         orange \n",
      "            27             50             20             30             82 \n",
      " paleturquoise           pink         purple            red      royalblue \n",
      "            17             12             26             22             32 \n",
      "   saddlebrown         salmon        sienna3        skyblue       skyblue3 \n",
      "            11             39             18             37             10 \n",
      "     steelblue            tan      turquoise         violet          white \n",
      "            18             90             79             39             18 \n",
      "        yellow    yellowgreen \n",
      "            36            115 \n",
      "moduleColors_microb\n",
      "      black        blue       brown       green greenyellow     magenta \n",
      "         34          87          76        2262          68          35 \n",
      "       pink      purple         red   turquoise      yellow \n",
      "         30         117          32          35          50 \n"
     ]
    }
   ],
   "source": [
    "print(table(moduleColors_metab))\n",
    "print(table(moduleColors_microb))"
   ]
  },
  {
   "cell_type": "code",
   "execution_count": 83,
   "metadata": {},
   "outputs": [],
   "source": [
    "# define numbers of genes and samples (same samples for Metab and Microb)\n",
    "moduleTraitCor = cor(MEs_metab, MEs_microb, use='p')\n",
    "moduleTraitPvalue = corPvalueStudent(moduleTraitCor, nSamples_metab)"
   ]
  },
  {
   "cell_type": "code",
   "execution_count": 84,
   "metadata": {},
   "outputs": [],
   "source": [
    "write.table(moduleTraitCor, file = 'metab_microbe_module_corr.txt', append = FALSE, quote = TRUE, sep = '\\t',\n",
    "            eol = '\\n', na = 'NA', dec = '.', row.names = TRUE,\n",
    "            col.names = TRUE, qmethod = c('escape', 'double'))"
   ]
  },
  {
   "cell_type": "code",
   "execution_count": 85,
   "metadata": {},
   "outputs": [],
   "source": [
    "write.table(moduleTraitPvalue, file = 'metab_microbe_module_pvals.txt', append = FALSE, quote = TRUE, sep = '\\t',\n",
    "            eol = '\\n', na = 'NA', dec = '.', row.names = TRUE,\n",
    "            col.names = TRUE, qmethod = c('escape', 'double'))"
   ]
  },
  {
   "cell_type": "code",
   "execution_count": 86,
   "metadata": {},
   "outputs": [
    {
     "data": {
      "text/html": [
       "<strong>pdf:</strong> 2"
      ],
      "text/latex": [
       "\\textbf{pdf:} 2"
      ],
      "text/markdown": [
       "**pdf:** 2"
      ],
      "text/plain": [
       "pdf \n",
       "  2 "
      ]
     },
     "metadata": {},
     "output_type": "display_data"
    }
   ],
   "source": [
    "pdf('correlation_MM.pdf', width=50, height=30)\n",
    "textMatrix = paste(signif(moduleTraitCor, 2), '\\n(', signif(moduleTraitPvalue, 1), ')', sep='')\n",
    "dim(textMatrix) = dim(moduleTraitCor)\n",
    "par(mar=c(20, 30, 10, 10)) # set margins\n",
    "labeledHeatmap(Matrix=moduleTraitCor, xLabels=names(MEs_microb), yLabels=names(MEs_metab), \n",
    "               ySymbols=names(MEs_metab),xSymbols=names(MEs_microb),colorLabels=TRUE, colors=greenWhiteRed(50), \n",
    "               textMatrix=textMatrix, setStdMargins=FALSE,\n",
    "               cex.text=2, zlim=c(-1,1), main=paste('Metab-Microb Modules Correlations'),\n",
    "               xColorWidth = 0.1, cex.main=5, cex.lab=3, xLabelsAngle = 20)\n",
    "dev.off()"
   ]
  },
  {
   "cell_type": "code",
   "execution_count": 87,
   "metadata": {},
   "outputs": [],
   "source": [
    "save(MEs_metab, moduleTraitCor_metab, moduleTraitPvalue_metab, \n",
    "     file='milk_metab_correlation.RData')\n",
    "save(MEs_microb, moduleTraitCor_microb, moduleTraitPvalue_microb, \n",
    "     file='milk_microb_correlation.RData')"
   ]
  },
  {
   "cell_type": "code",
   "execution_count": 88,
   "metadata": {},
   "outputs": [],
   "source": [
    "########### see specific metabs or microbes within each module ##########"
   ]
  },
  {
   "cell_type": "markdown",
   "metadata": {},
   "source": [
    "## plotting pairwise corr"
   ]
  },
  {
   "cell_type": "markdown",
   "metadata": {},
   "source": [
    "1. Visualize as a heatmap. http://seaborn.pydata.org/generated/seaborn.clustermap.html\n",
    "the key is to get the right clustering\n",
    "http://seaborn.pydata.org/examples/network_correlations.html\n",
    "2. Visualize as a network\n",
    "you can do it in cytoscape\n",
    "the most effective tutorial that I found was actually through speic easi\n",
    "https://stamps.mbl.edu/images/e/e9/SpiecEasi_tutorial_08102016.pdf\n",
    "https://stamps.mbl.edu/images/c/c2/STAMPS_Network_3.pdf\n",
    "tutorials from stamps last year\n",
    "3. the 3rd way is doing a PCoA on the correlation matrix -- this one will take a bit of thought though ...\n",
    "its analogous to the PLS biplots similar to the office study\n",
    "basically trying to see the driving axes of correlation\""
   ]
  },
  {
   "cell_type": "code",
   "execution_count": null,
   "metadata": {},
   "outputs": [],
   "source": [
    "# pick specific modules (python)"
   ]
  },
  {
   "cell_type": "markdown",
   "metadata": {},
   "source": [
    "## pairwise correlation between members of specific module pairs"
   ]
  },
  {
   "cell_type": "markdown",
   "metadata": {},
   "source": [
    "1."
   ]
  },
  {
   "cell_type": "code",
   "execution_count": 100,
   "metadata": {},
   "outputs": [],
   "source": [
    "met = names(dat_metab)[moduleColors_metab == 'darkorange']\n",
    "mic = names(dat_microb)[moduleColors_microb == 'greenyellow']"
   ]
  },
  {
   "cell_type": "code",
   "execution_count": 20,
   "metadata": {
    "collapsed": true
   },
   "outputs": [],
   "source": [
    "## pairwise correlations between microbiome and metabolome features in darkorange-greenyellow"
   ]
  },
  {
   "cell_type": "code",
   "execution_count": 96,
   "metadata": {},
   "outputs": [],
   "source": [
    "dat_microb1=dat_microb[, c(mic)]\n",
    "dat_metab1=dat_metab[, c(met)]"
   ]
  },
  {
   "cell_type": "code",
   "execution_count": 97,
   "metadata": {},
   "outputs": [],
   "source": [
    "feature_corr=cor(dat_microb1, dat_metab1, use='p')\n",
    "feature_corrPvalue=corPvalueStudent(feature_corr, nSamples_metab)"
   ]
  },
  {
   "cell_type": "code",
   "execution_count": 98,
   "metadata": {},
   "outputs": [],
   "source": [
    "feature_corr=t(feature_corr)\n",
    "feature_corrPvalue=t(feature_corrPvalue)"
   ]
  },
  {
   "cell_type": "code",
   "execution_count": 99,
   "metadata": {},
   "outputs": [],
   "source": [
    "write.table(feature_corr, file = \"sotu_metab_corrmat_darkorange_greenyellow.tsv\", append = FALSE, quote = TRUE, sep = \"\\t\",\n",
    "            eol = \"\\n\", na = \"NA\", dec = \".\", row.names = TRUE,\n",
    "            col.names = TRUE, qmethod = c(\"escape\", \"double\"))\n",
    "\n",
    "write.table(feature_corrPvalue, file = \"sotu_metab_corrmatPvalue_darkorange_greenyellow.tsv\", append = FALSE, quote = TRUE, sep = \"\\t\",\n",
    "            eol = \"\\n\", na = \"NA\", dec = \".\", row.names = TRUE,\n",
    "            col.names = TRUE, qmethod = c(\"escape\", \"double\"))"
   ]
  },
  {
   "cell_type": "markdown",
   "metadata": {},
   "source": [
    "2."
   ]
  },
  {
   "cell_type": "code",
   "execution_count": 102,
   "metadata": {},
   "outputs": [],
   "source": [
    "met = names(dat_metab)[moduleColors_metab == 'lightgreen']\n",
    "mic = names(dat_microb)[moduleColors_microb == 'greenyellow']"
   ]
  },
  {
   "cell_type": "code",
   "execution_count": 103,
   "metadata": {},
   "outputs": [],
   "source": [
    "## pairwise correlations between microbiome and metabolome features in darkorange-greenyellow"
   ]
  },
  {
   "cell_type": "code",
   "execution_count": 104,
   "metadata": {},
   "outputs": [],
   "source": [
    "dat_microb1=dat_microb[, c(mic)]\n",
    "dat_metab1=dat_metab[, c(met)]"
   ]
  },
  {
   "cell_type": "code",
   "execution_count": 105,
   "metadata": {},
   "outputs": [],
   "source": [
    "feature_corr=cor(dat_microb1, dat_metab1, use='p')\n",
    "feature_corrPvalue=corPvalueStudent(feature_corr, nSamples_metab)"
   ]
  },
  {
   "cell_type": "code",
   "execution_count": 106,
   "metadata": {},
   "outputs": [],
   "source": [
    "feature_corr=t(feature_corr)\n",
    "feature_corrPvalue=t(feature_corrPvalue)"
   ]
  },
  {
   "cell_type": "code",
   "execution_count": 107,
   "metadata": {},
   "outputs": [],
   "source": [
    "write.table(feature_corr, file = \"sotu_metab_corrmat_lightgreen_greenyellow.tsv\", append = FALSE, quote = TRUE, sep = \"\\t\",\n",
    "            eol = \"\\n\", na = \"NA\", dec = \".\", row.names = TRUE,\n",
    "            col.names = TRUE, qmethod = c(\"escape\", \"double\"))\n",
    "\n",
    "write.table(feature_corrPvalue, file = \"sotu_metab_corrmatPvalue_lightgreen_greenyellow.tsv\", append = FALSE, quote = TRUE, sep = \"\\t\",\n",
    "            eol = \"\\n\", na = \"NA\", dec = \".\", row.names = TRUE,\n",
    "            col.names = TRUE, qmethod = c(\"escape\", \"double\"))"
   ]
  },
  {
   "cell_type": "markdown",
   "metadata": {},
   "source": [
    "3."
   ]
  },
  {
   "cell_type": "code",
   "execution_count": 108,
   "metadata": {},
   "outputs": [],
   "source": [
    "met = names(dat_metab)[moduleColors_metab == 'steelblue']\n",
    "mic = names(dat_microb)[moduleColors_microb == 'black']"
   ]
  },
  {
   "cell_type": "code",
   "execution_count": 20,
   "metadata": {
    "collapsed": true
   },
   "outputs": [],
   "source": [
    "## pairwise correlations between microbiome and metabolome features in darkorange-greenyellow"
   ]
  },
  {
   "cell_type": "code",
   "execution_count": 109,
   "metadata": {},
   "outputs": [],
   "source": [
    "dat_microb1=dat_microb[, c(mic)]\n",
    "dat_metab1=dat_metab[, c(met)]"
   ]
  },
  {
   "cell_type": "code",
   "execution_count": 110,
   "metadata": {},
   "outputs": [],
   "source": [
    "feature_corr=cor(dat_microb1, dat_metab1, use='p')\n",
    "feature_corrPvalue=corPvalueStudent(feature_corr, nSamples_metab)"
   ]
  },
  {
   "cell_type": "code",
   "execution_count": 111,
   "metadata": {},
   "outputs": [],
   "source": [
    "feature_corr=t(feature_corr)\n",
    "feature_corrPvalue=t(feature_corrPvalue)"
   ]
  },
  {
   "cell_type": "code",
   "execution_count": 112,
   "metadata": {},
   "outputs": [],
   "source": [
    "write.table(feature_corr, file = \"sotu_metab_corrmat_steelblue_black.tsv\", append = FALSE, quote = TRUE, sep = \"\\t\",\n",
    "            eol = \"\\n\", na = \"NA\", dec = \".\", row.names = TRUE,\n",
    "            col.names = TRUE, qmethod = c(\"escape\", \"double\"))\n",
    "\n",
    "write.table(feature_corrPvalue, file = \"sotu_metab_corrmatPvalue_steelblue_black.tsv\", append = FALSE, quote = TRUE, sep = \"\\t\",\n",
    "            eol = \"\\n\", na = \"NA\", dec = \".\", row.names = TRUE,\n",
    "            col.names = TRUE, qmethod = c(\"escape\", \"double\"))"
   ]
  }
 ],
 "metadata": {
  "kernelspec": {
   "display_name": "R",
   "language": "R",
   "name": "ir"
  },
  "language_info": {
   "codemirror_mode": "r",
   "file_extension": ".r",
   "mimetype": "text/x-r-source",
   "name": "R",
   "pygments_lexer": "r",
   "version": "3.4.3"
  }
 },
 "nbformat": 4,
 "nbformat_minor": 2
}
